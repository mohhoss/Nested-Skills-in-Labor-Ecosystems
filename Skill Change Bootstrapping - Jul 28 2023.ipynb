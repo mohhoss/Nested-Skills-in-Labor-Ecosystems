{
 "cells": [
  {
   "cell_type": "markdown",
   "metadata": {
    "pycharm": {
     "name": "#%% md\n"
    }
   },
   "source": [
    "# Skill Change Bootstrap - Changing Order of Career Moves"
   ]
  },
  {
   "cell_type": "code",
   "execution_count": 1,
   "metadata": {
    "pycharm": {
     "name": "#%%\n"
    }
   },
   "outputs": [],
   "source": [
    "import os\n",
    "import pandas as pd\n",
    "import copy\n",
    "from collections import ChainMap\n",
    "import numpy as np\n",
    "import re\n",
    "import os\n",
    "import glob\n",
    "import multiprocessing as mp\n",
    "import time\n",
    "from tqdm import tqdm\n",
    "from multiprocessing import Pool\n",
    "from plotnine import *\n",
    "\n",
    "\n",
    "## Changing Working Directory\n",
    "print(os.getcwd())\n",
    "basepath = \"path\"\n",
    "os.chdir(basepath)\n",
    "print(os.listdir)"
   ]
  },
  {
   "cell_type": "markdown",
   "metadata": {
    "pycharm": {
     "name": "#%% md\n"
    }
   },
   "source": [
    "## 1. Loading Data"
   ]
  },
  {
   "cell_type": "markdown",
   "metadata": {
    "pycharm": {
     "name": "#%% md\n"
    }
   },
   "source": [
    "### 1.1. Job Sequence Data"
   ]
  },
  {
   "cell_type": "code",
   "execution_count": 2,
   "metadata": {
    "pycharm": {
     "name": "#%%\n"
    }
   },
   "outputs": [
    {
     "name": "stdout",
     "output_type": "stream",
     "text": [
      "26851093\n",
      "   BGTResId  JobPosition    ONETCode\n",
      "0         4            1  11-3061.00\n",
      "1         4            2  41-4012.00\n",
      "2         4            3  41-4012.00\n",
      "3         4            4  11-2022.00\n",
      "4        13            1  41-4012.00\n"
     ]
    }
   ],
   "source": [
    "#### In the following, read in the cleaned job sequence file from Burning Glass\n",
    "jobs = pd.read_csv(basepath + 'filepath/filename.csv')\n",
    "jobs = jobs.sort_values(['BGTResId','From_year','To_year', 'From_month', 'To_month'],\n",
    "              ascending = [True, True, True, True, True])\n",
    "jobs[\"JobPosition\"] = jobs.groupby('BGTResId').cumcount()+1\n",
    "jobs = jobs[['BGTResId', 'JobPosition', 'ONETCode']]\n",
    "\n",
    "\n",
    "print(len(jobs))\n",
    "print(jobs.head())\n"
   ]
  },
  {
   "cell_type": "markdown",
   "metadata": {
    "pycharm": {
     "name": "#%% md\n"
    }
   },
   "source": [
    "### 1.2. Skill Occupation Information"
   ]
  },
  {
   "cell_type": "code",
   "execution_count": 3,
   "metadata": {
    "pycharm": {
     "name": "#%%\n"
    }
   },
   "outputs": [
    {
     "name": "stderr",
     "output_type": "stream",
     "text": [
      "/Users/younlab/opt/anaconda3/lib/python3.7/site-packages/ipykernel_launcher.py:8: SettingWithCopyWarning: \n",
      "A value is trying to be set on a copy of a slice from a DataFrame.\n",
      "Try using .loc[row_indexer,col_indexer] = value instead\n",
      "\n",
      "See the caveats in the documentation: https://pandas.pydata.org/pandas-docs/stable/user_guide/indexing.html#returning-a-view-versus-a-copy\n",
      "/Users/younlab/opt/anaconda3/lib/python3.7/site-packages/ipykernel_launcher.py:9: UserWarning: Boolean Series key will be reindexed to match DataFrame index.\n",
      "/Users/younlab/opt/anaconda3/lib/python3.7/site-packages/ipykernel_launcher.py:9: SettingWithCopyWarning: \n",
      "A value is trying to be set on a copy of a slice from a DataFrame.\n",
      "Try using .loc[row_indexer,col_indexer] = value instead\n",
      "\n",
      "See the caveats in the documentation: https://pandas.pydata.org/pandas-docs/stable/user_guide/indexing.html#returning-a-view-versus-a-copy\n"
     ]
    },
    {
     "name": "stdout",
     "output_type": "stream",
     "text": [
      "Scale ID   occ_8_dig element_ID  Importance  Level\n",
      "0         11-1011.00    2.A.1.a        4.12   4.75\n",
      "1         11-1011.00    2.A.1.b        4.12   4.88\n",
      "2         11-1011.00    2.A.1.c        4.00   4.38\n",
      "3         11-1011.00    2.A.1.d        4.38   4.88\n",
      "4         11-1011.00    2.A.1.e        3.25   3.62\n"
     ]
    }
   ],
   "source": [
    "#### In the following, read in the skills, knowledge, and abilities from O*NET\n",
    "skill_occ = pd.read_excel(basepath+\"Skills.xlsx\")\n",
    "\n",
    "ability_occ = pd.read_excel(basepath+\"Abilities.xlsx\")\n",
    "\n",
    "know_occ = pd.read_excel(basepath+\"Knowledge.xlsx\")\n",
    "\n",
    "skill_occ[skill_occ['Element Name'] == \"Mathematics\"]['Element Name'] = \"Mathematics Skills\"\n",
    "know_occ[skill_occ['Element Name'] == \"Mathematics\"]['Element Name'] = \"Mathematics Knowledge\"\n",
    "\n",
    "\n",
    "## Combining Skills\n",
    "### Adding Type\n",
    "skill_occ['type'] = \"skill\"\n",
    "ability_occ['type'] = \"ability\"\n",
    "know_occ['type'] = \"knowledge\"\n",
    "\n",
    "# ### Renaming Columns\n",
    "skill_occ = skill_occ.rename(columns = {'O*NET-SOC Code':'occ_8_dig', 'Element ID':'element_ID', 'Element Name':'element_title'})\n",
    "ability_occ = ability_occ.rename(columns = {'O*NET-SOC Code':'occ_8_dig', 'Element ID':'element_ID', 'Element Name':'element_title'})\n",
    "know_occ = know_occ.rename(columns = {'O*NET-SOC Code':'occ_8_dig', 'Element ID':'element_ID', 'Element Name':'element_title'})\n",
    "\n",
    "\n",
    "### Keeping Needed Columns and Pivoting Values\n",
    "skill_occ = skill_occ[['occ_8_dig', 'element_ID', 'Scale ID', 'Data Value', 'type']] \\\n",
    "    .pivot_table(index = ['occ_8_dig', 'element_ID'], columns = 'Scale ID', values = 'Data Value').reset_index(drop = False)\n",
    "ability_occ = ability_occ[['occ_8_dig', 'element_ID', 'Scale ID', 'Data Value', 'type']] \\\n",
    "    .pivot_table(index = ['occ_8_dig', 'element_ID'], columns = 'Scale ID', values = 'Data Value').reset_index(drop = False)\n",
    "know_occ = know_occ[['occ_8_dig', 'element_ID', 'Scale ID', 'Data Value', 'type']] \\\n",
    "    .pivot_table(index = ['occ_8_dig', 'element_ID'], columns = 'Scale ID', values = 'Data Value').reset_index(drop = False)\n",
    "\n",
    "### Combining Skills\n",
    "skills_occ_raw = skill_occ.rename(columns = {'IM':'Importance', 'LV':'Level'}) \\\n",
    "        .append(ability_occ.rename(columns = {'IM':'Importance', 'LV':'Level'}), ignore_index = True) \\\n",
    "        .append(know_occ.rename(columns = {'IM':'Importance', 'LV':'Level'}), ignore_index = True) \\\n",
    "        [[\"occ_8_dig\", \"element_ID\", \"Importance\", \"Level\"]]\n",
    "\n",
    "\n",
    "print(skills_occ_raw.head())\n"
   ]
  },
  {
   "cell_type": "markdown",
   "metadata": {
    "pycharm": {
     "name": "#%% md\n"
    }
   },
   "source": [
    "### 1.3. Skill Clusters and Categories"
   ]
  },
  {
   "cell_type": "code",
   "execution_count": 4,
   "metadata": {
    "pycharm": {
     "name": "#%%\n"
    }
   },
   "outputs": [
    {
     "name": "stdout",
     "output_type": "stream",
     "text": [
      "  element_ID skill_Cluster\n",
      "0  1.A.1.a.1       General\n",
      "1  1.A.1.a.2       General\n",
      "2  1.A.1.a.3       General\n",
      "3  1.A.1.a.4       General\n",
      "4  1.A.1.b.3       General\n"
     ]
    }
   ],
   "source": [
    "#### In the following, read in the Skill Clusters as defined by the manuscript Fig. 1\n",
    "skill_clusters = pd.read_csv(basepath+\"Skill Clustering and subtypes.csv\")\n",
    "skill_clusters = skill_clusters[['element_ID','skill_Cluster']]\n",
    "print(skill_clusters.head())\n"
   ]
  },
  {
   "cell_type": "markdown",
   "metadata": {
    "pycharm": {
     "name": "#%% md\n"
    }
   },
   "source": [
    "### 1.4. Aggregating Occupation Skills into Skill Categories"
   ]
  },
  {
   "cell_type": "code",
   "execution_count": 5,
   "metadata": {
    "collapsed": true,
    "jupyter": {
     "outputs_hidden": true
    },
    "pycharm": {
     "name": "#%%\n"
    }
   },
   "outputs": [
    {
     "name": "stdout",
     "output_type": "stream",
     "text": [
      "    occ_8_dig             gen_related     Level\n",
      "0  11-1011.00                 General  4.711613\n",
      "1  11-1011.00     Nested Intermediate  4.087600\n",
      "2  11-1011.00         Nested Specific  1.686667\n",
      "3  11-1011.00  Un-nested Intermediate  1.786111\n",
      "4  11-1011.00      Un-nested Specific  0.230714\n"
     ]
    }
   ],
   "source": [
    "#### In the following, read in the Skill Categories as defined by the manuscript Fig. 2\n",
    "occ_skill_subtypes = pd.read_csv(basepath+\"preferred Skill Clustering and subtypes.csv\")\n",
    "occ_skill_subtypes = occ_skill_subtypes[['element_ID','gen_related']]\n",
    "occ_skill_subtypes = skills_occ_raw[['element_ID', 'occ_8_dig', 'Level']]. \\\n",
    "    merge(occ_skill_subtypes[['element_ID', 'gen_related']]). \\\n",
    "    groupby(['occ_8_dig', 'gen_related'])['Level'].mean().reset_index(drop = False)\n",
    "\n",
    "print(occ_skill_subtypes.head())"
   ]
  },
  {
   "cell_type": "markdown",
   "metadata": {
    "pycharm": {
     "name": "#%% md\n"
    }
   },
   "source": [
    "## 2. Bootstrapping: Changing Sequence of Career Moves"
   ]
  },
  {
   "cell_type": "code",
   "execution_count": 6,
   "metadata": {},
   "outputs": [],
   "source": [
    "#### The following function takes in a Data.Frame of job sequences and permutates job sequences\n",
    "\n",
    "def Permutate_JobPosition(x):\n",
    "    x['rand_JobPosition'] = x.groupby(\"BGTResId\")[\"JobPosition\"].transform(lambda z: np.random.permutation(z))\n",
    "    return x"
   ]
  },
  {
   "cell_type": "markdown",
   "metadata": {
    "pycharm": {
     "name": "#%% md\n"
    }
   },
   "source": [
    "### 2.1. Single Bootstrap— keeping the entire data"
   ]
  },
  {
   "cell_type": "code",
   "execution_count": null,
   "metadata": {},
   "outputs": [],
   "source": [
    "#### Permutation (bootrstrapping) process and measuring of skill changes\n",
    "\n",
    "jobs[\"rand_JobPosition\"] = jobs.groupby(\"BGTResId\")[\"JobPosition\"].transform(lambda x: np.random.permutation(x))\n",
    "jobs.explode(\"rand_JobPosition\")\n",
    "temp_jobs = jobs[[\"BGTResId\", \"ONETCode\", \"rand_JobPosition\"]]\n",
    "        \n",
    "temp_jobs = temp_jobs.sort_values(['rand_JobPosition'], ascending = [True])\n",
    "temp_jobs['Dest_occ'] = temp_jobs.groupby(['BGTResId'])['ONETCode'].shift(-1)\n",
    "temp_jobs = temp_jobs.rename(columns = {'ONETCode' : 'Source_occ'})\n",
    "        \n",
    "#### Measuring of Skill Change in the Randomized Job Sequence\n",
    "skill_level_change = temp_jobs. \\\n",
    "    merge(occ_skill_subtypes.rename(columns = {\"occ_8_dig\":\"Source_occ\", \"Level\": \"Source_Level\"}), on = \"Source_occ\"). \\\n",
    "    merge(occ_skill_subtypes.rename(columns = {\"occ_8_dig\":\"Dest_occ\", \"Level\": \"Dest_Level\"}), on = [\"Dest_occ\", \"gen_related\"])\n",
    "skill_level_change['delta_level'] = skill_level_change.Dest_Level - skill_level_change.Source_Level\n",
    "skill_level_change = skill_level_change[[\"BGTResId\", \"Source_occ\", \"Dest_occ\",'gen_related','delta_level']]\n",
    "skill_level_change = skill_level_change.drop_duplicates()\n",
    "    \n",
    "\n",
    "### Saving Output Files\n",
    "skill_level_change.to_csv(basepath+'skill_level_change_bootstrap.csv', index=False)\n",
    "    \n"
   ]
  }
 ],
 "metadata": {
  "kernelspec": {
   "display_name": "Python 3 (ipykernel)",
   "language": "python",
   "name": "python3"
  },
  "language_info": {
   "codemirror_mode": {
    "name": "ipython",
    "version": 3
   },
   "file_extension": ".py",
   "mimetype": "text/x-python",
   "name": "python",
   "nbconvert_exporter": "python",
   "pygments_lexer": "ipython3",
   "version": "3.9.13"
  }
 },
 "nbformat": 4,
 "nbformat_minor": 4
}
